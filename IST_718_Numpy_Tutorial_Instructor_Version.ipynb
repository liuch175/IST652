{
  "cells": [
    {
      "cell_type": "markdown",
      "metadata": {
        "id": "view-in-github",
        "colab_type": "text"
      },
      "source": [
        "<a href=\"https://colab.research.google.com/github/liuch175/IST652/blob/master/IST_718_Numpy_Tutorial_Instructor_Version.ipynb\" target=\"_parent\"><img src=\"https://colab.research.google.com/assets/colab-badge.svg\" alt=\"Open In Colab\"/></a>"
      ]
    },
    {
      "cell_type": "markdown",
      "metadata": {
        "id": "-q1OT0YHl4UH"
      },
      "source": [
        "# IST-718 Numpy Tutorial"
      ]
    },
    {
      "cell_type": "markdown",
      "metadata": {
        "id": "qR4aCeJLl4UM"
      },
      "source": [
        "Credit:  This tutorial was adapted from the Stanford [Stanford CS-228](https://github.com/kuleshov/cs228-material/blob/master/tutorials/python/cs228-python-tutorial.ipynb) python tutorial."
      ]
    },
    {
      "cell_type": "markdown",
      "metadata": {
        "id": "uT907o1Hl4UN"
      },
      "source": [
        "## Numpy"
      ]
    },
    {
      "cell_type": "markdown",
      "metadata": {
        "id": "ek8DCXLSl4UN"
      },
      "source": [
        "Numpy is the core library for scientific computing in Python. It provides a high-performance multidimensional array object, and tools for working with these array objects. If you are already familiar with MATLAB, you might find this [tutorial](http://wiki.scipy.org/NumPy_for_Matlab_Users) useful to get started with Numpy."
      ]
    },
    {
      "cell_type": "markdown",
      "metadata": {
        "id": "WPh0mP1Ql4UO"
      },
      "source": [
        "To use Numpy, we first need to import the `numpy` package:"
      ]
    },
    {
      "cell_type": "code",
      "execution_count": null,
      "metadata": {
        "id": "lsXRzIHJl4UP"
      },
      "outputs": [],
      "source": [
        "import numpy as np"
      ]
    },
    {
      "cell_type": "markdown",
      "metadata": {
        "id": "HqpIPkIFl4UQ"
      },
      "source": [
        "### Arrays"
      ]
    },
    {
      "cell_type": "markdown",
      "metadata": {
        "id": "D5905QFfl4UR"
      },
      "source": [
        "A numpy array is a grid of values, all of the same type, and indexed by a tuple of nonnegative integers. The number of dimensions is the rank of the array; the shape of an array is a tuple of integers giving the size of the array along each dimension."
      ]
    },
    {
      "cell_type": "markdown",
      "metadata": {
        "id": "0ZGnItuGl4US"
      },
      "source": [
        "We can initialize numpy arrays from nested Python lists, and access elements using square brackets:"
      ]
    },
    {
      "cell_type": "code",
      "execution_count": null,
      "metadata": {
        "scrolled": true,
        "id": "sxOAs2oel4US",
        "outputId": "6f7bc23b-7aa3-494a-a91a-be27b5bef517",
        "colab": {
          "base_uri": "https://localhost:8080/"
        }
      },
      "outputs": [
        {
          "output_type": "stream",
          "name": "stdout",
          "text": [
            "a: [1 2 3]\n",
            "type(a): <class 'numpy.ndarray'>\n",
            "a.shape: (3,)\n",
            "a[0] a[1] a[2]: 1 2 3\n",
            "changed a: [5 2 3]\n"
          ]
        }
      ],
      "source": [
        "a = np.array([1, 2, 3])  # Create a rank 1 array\n",
        "print(\"a:\", a)\n",
        "print(\"type(a):\", type(a))\n",
        "print(\"a.shape:\", a.shape)\n",
        "print(\"a[0] a[1] a[2]:\", a[0], a[1], a[2])\n",
        "a[0] = 5                 # Change an element of the array\n",
        "print(\"changed a:\", a)                  "
      ]
    },
    {
      "cell_type": "code",
      "execution_count": null,
      "metadata": {
        "id": "Y5-C3sq_l4UU",
        "outputId": "ed905734-c65f-4a45-be61-c6fe9ab513a3",
        "colab": {
          "base_uri": "https://localhost:8080/"
        }
      },
      "outputs": [
        {
          "output_type": "stream",
          "name": "stdout",
          "text": [
            "b:\n",
            " [[1 2 3]\n",
            " [4 5 6]]\n"
          ]
        }
      ],
      "source": [
        "b = np.array([[1,2,3],[4,5,6]])   # Create a rank 2 array\n",
        "print(\"b:\\n\", b)"
      ]
    },
    {
      "cell_type": "code",
      "execution_count": null,
      "metadata": {
        "id": "aQF1hyLnl4UU",
        "outputId": "b9db36da-fcb6-4d28-eafa-0d086a5bd306",
        "colab": {
          "base_uri": "https://localhost:8080/"
        }
      },
      "outputs": [
        {
          "output_type": "stream",
          "name": "stdout",
          "text": [
            "b.shape: (2, 3)\n",
            "1 2 4\n"
          ]
        }
      ],
      "source": [
        "print(\"b.shape:\", b.shape)\n",
        "print(b[0, 0], b[0, 1], b[1, 0])"
      ]
    },
    {
      "cell_type": "markdown",
      "metadata": {
        "id": "x92CCKLsl4UV"
      },
      "source": [
        "Numpy also provides many functions to create arrays:"
      ]
    },
    {
      "cell_type": "code",
      "execution_count": null,
      "metadata": {
        "id": "Iz3EsK1sl4UV",
        "outputId": "fa4cfd33-89ed-4cbe-ba22-36ee1ef709c0",
        "colab": {
          "base_uri": "https://localhost:8080/"
        }
      },
      "outputs": [
        {
          "output_type": "stream",
          "name": "stdout",
          "text": [
            "[[0. 0.]\n",
            " [0. 0.]]\n"
          ]
        }
      ],
      "source": [
        "a = np.zeros((2,2))  # Create an array of all zeros\n",
        "print(a)"
      ]
    },
    {
      "cell_type": "code",
      "execution_count": null,
      "metadata": {
        "id": "O6aLtDH6l4UW",
        "outputId": "e69448ec-0156-464e-bf5a-9bc115721984",
        "colab": {
          "base_uri": "https://localhost:8080/"
        }
      },
      "outputs": [
        {
          "output_type": "stream",
          "name": "stdout",
          "text": [
            "[[1. 1.]]\n"
          ]
        }
      ],
      "source": [
        "b = np.ones((1,2))   # Create an array of all ones\n",
        "print(b)"
      ]
    },
    {
      "cell_type": "code",
      "execution_count": null,
      "metadata": {
        "id": "xyfHd1ndl4UW",
        "outputId": "d9330245-4f17-40a5-a52b-30623b3e7733",
        "colab": {
          "base_uri": "https://localhost:8080/"
        }
      },
      "outputs": [
        {
          "output_type": "stream",
          "name": "stdout",
          "text": [
            "[[7 7]\n",
            " [7 7]]\n"
          ]
        }
      ],
      "source": [
        "c = np.full((2,2), 7) # Create a constant array\n",
        "print(c) "
      ]
    },
    {
      "cell_type": "code",
      "execution_count": null,
      "metadata": {
        "id": "W74ITIICl4UX",
        "outputId": "ba36865d-f328-4069-ffd4-3c2709ab64a2",
        "colab": {
          "base_uri": "https://localhost:8080/"
        }
      },
      "outputs": [
        {
          "output_type": "stream",
          "name": "stdout",
          "text": [
            "[[1. 0.]\n",
            " [0. 1.]]\n"
          ]
        }
      ],
      "source": [
        "d = np.eye(2)        # Create a 2x2 identity matrix\n",
        "print(d)"
      ]
    },
    {
      "cell_type": "code",
      "execution_count": null,
      "metadata": {
        "id": "igAo4s1Dl4UX",
        "outputId": "5892e3c9-1167-4caa-9b44-167aa9a9b675",
        "colab": {
          "base_uri": "https://localhost:8080/"
        }
      },
      "outputs": [
        {
          "output_type": "stream",
          "name": "stdout",
          "text": [
            "[[0.10254728 0.4116012 ]\n",
            " [0.87229317 0.70233397]]\n"
          ]
        }
      ],
      "source": [
        "e = np.random.random((2,2)) # Create an array filled with random values\n",
        "print(e)"
      ]
    },
    {
      "cell_type": "markdown",
      "metadata": {
        "id": "ARbq1HCSl4UY"
      },
      "source": [
        "### Array indexing"
      ]
    },
    {
      "cell_type": "markdown",
      "metadata": {
        "id": "a1TGcyAml4UY"
      },
      "source": [
        "Numpy offers several ways to index into arrays."
      ]
    },
    {
      "cell_type": "markdown",
      "metadata": {
        "id": "7ED7QNhVl4UZ"
      },
      "source": [
        "Slicing: Similar to Python lists, numpy arrays can be sliced. Since arrays may be multidimensional, you must specify a slice for each dimension of the array:"
      ]
    },
    {
      "cell_type": "code",
      "execution_count": null,
      "metadata": {
        "id": "Z50Pe37Jl4UZ",
        "outputId": "61fac65b-978b-4045-9f5d-fa184a1ec565",
        "colab": {
          "base_uri": "https://localhost:8080/"
        }
      },
      "outputs": [
        {
          "output_type": "stream",
          "name": "stdout",
          "text": [
            "a:\n",
            "[[ 1  2  3  4]\n",
            " [ 5  6  7  8]\n",
            " [ 9 10 11 12]]\n",
            "b:\n",
            "[[2 3]\n",
            " [6 7]]\n"
          ]
        }
      ],
      "source": [
        "import numpy as np\n",
        "\n",
        "# Create the following rank 2 array with shape (3, 4)\n",
        "# [[ 1  2  3  4]\n",
        "#  [ 5  6  7  8]\n",
        "#  [ 9 10 11 12]]\n",
        "a = np.array([[1,2,3,4], [5,6,7,8], [9,10,11,12]])\n",
        "print(\"a:\")\n",
        "print(a)\n",
        "\n",
        "# Use slicing to pull out the subarray consisting of the first 2 rows\n",
        "# and columns 1 and 2; b is the following array of shape (2, 2):\n",
        "# [[2 3]\n",
        "#  [6 7]]\n",
        "b = a[:2, 1:3]\n",
        "print(\"b:\")\n",
        "print(b)"
      ]
    },
    {
      "cell_type": "markdown",
      "metadata": {
        "id": "DmIcXNVYl4Ua"
      },
      "source": [
        "A slice of an array is a view into the same data, so modifying it will modify the original array."
      ]
    },
    {
      "cell_type": "code",
      "execution_count": null,
      "metadata": {
        "id": "M9J8KEkXl4Ub",
        "outputId": "51a408db-ca2b-4fe8-b715-5265c016181b",
        "colab": {
          "base_uri": "https://localhost:8080/"
        }
      },
      "outputs": [
        {
          "output_type": "stream",
          "name": "stdout",
          "text": [
            "2\n",
            "77\n"
          ]
        }
      ],
      "source": [
        "print(a[0, 1])  \n",
        "b[0, 0] = 77    # b[0, 0] is the same piece of data as a[0, 1]\n",
        "print(a[0, 1])"
      ]
    },
    {
      "cell_type": "markdown",
      "metadata": {
        "id": "OV3Sl6Cml4Uc"
      },
      "source": [
        "You can also mix integer indexing with slice indexing. However, doing so will yield an array of lower rank than the original array. Note that this is quite different from the way that MATLAB handles array slicing:"
      ]
    },
    {
      "cell_type": "code",
      "execution_count": null,
      "metadata": {
        "id": "Bi9EeIwDl4Uc",
        "outputId": "6881bd2f-3cec-43d9-b83c-630d8389f6d0",
        "colab": {
          "base_uri": "https://localhost:8080/"
        }
      },
      "outputs": [
        {
          "output_type": "stream",
          "name": "stdout",
          "text": [
            "[[ 1  2  3  4]\n",
            " [ 5  6  7  8]\n",
            " [ 9 10 11 12]]\n"
          ]
        }
      ],
      "source": [
        "# Create the following rank 2 array with shape (3, 4)\n",
        "a = np.array([[1,2,3,4], [5,6,7,8], [9,10,11,12]])\n",
        "print(a)"
      ]
    },
    {
      "cell_type": "markdown",
      "metadata": {
        "id": "p_hvIB47l4Ud"
      },
      "source": [
        "Two ways of accessing the data in the middle row of the array.\n",
        "Mixing integer indexing with slices yields an array of lower rank,\n",
        "while using only slices yields an array of the same rank as the\n",
        "original array:"
      ]
    },
    {
      "cell_type": "code",
      "execution_count": null,
      "metadata": {
        "id": "Z8CPfIqtl4Ud",
        "outputId": "e3c422fd-2efc-4554-9b79-1c36e6fc8a31",
        "colab": {
          "base_uri": "https://localhost:8080/"
        }
      },
      "outputs": [
        {
          "output_type": "stream",
          "name": "stdout",
          "text": [
            "a:\n",
            "[[ 1  2  3  4]\n",
            " [ 5  6  7  8]\n",
            " [ 9 10 11 12]]\n",
            "a.shape (3, 4)\n",
            "row_r1 [5 6 7 8] (4,)\n",
            "row_r2 [[5 6 7 8]] (1, 4)\n",
            "row_r3 [[5 6 7 8]] (1, 4)\n"
          ]
        }
      ],
      "source": [
        "row_r1 = a[1, :]    # Rank 1 view of the second row of a  \n",
        "row_r2 = a[1:2, :]  # Rank 2 view of the second row of a\n",
        "row_r3 = a[[1], :]  # Rank 2 view of the second row of a\n",
        "print(\"a:\")\n",
        "print(a)\n",
        "print(\"a.shape\", a.shape)\n",
        "print(\"row_r1\", row_r1, row_r1.shape) \n",
        "print(\"row_r2\", row_r2, row_r2.shape)\n",
        "print(\"row_r3\", row_r3, row_r3.shape)"
      ]
    },
    {
      "cell_type": "code",
      "execution_count": null,
      "metadata": {
        "id": "zPPPhPsSl4Ue",
        "outputId": "037ae9a6-2634-4477-ee36-ac3d52002ba2",
        "colab": {
          "base_uri": "https://localhost:8080/"
        }
      },
      "outputs": [
        {
          "output_type": "stream",
          "name": "stdout",
          "text": [
            "col_r1:\n",
            " [ 2  6 10] (3,)\n",
            "\n",
            "col_r2:\n",
            " [[ 2]\n",
            " [ 6]\n",
            " [10]] (3, 1)\n"
          ]
        }
      ],
      "source": [
        "# We can make the same distinction when accessing columns of an array:\n",
        "col_r1 = a[:, 1]\n",
        "col_r2 = a[:, 1:2]\n",
        "print(\"col_r1:\\n\", col_r1, col_r1.shape)\n",
        "print()\n",
        "print(\"col_r2:\\n\", col_r2, col_r2.shape)"
      ]
    },
    {
      "cell_type": "markdown",
      "metadata": {
        "id": "BCohaUHJl4Ue"
      },
      "source": [
        "Integer array indexing: When you index into numpy arrays using slicing, the resulting array view will always be a subarray of the original array. In contrast, integer array indexing allows you to construct arbitrary new arrays using the data from another array. Here is an example:"
      ]
    },
    {
      "cell_type": "code",
      "execution_count": null,
      "metadata": {
        "scrolled": true,
        "id": "aoXnVVtal4Uf",
        "outputId": "fad118bb-627e-4021-e108-553ed0b94399",
        "colab": {
          "base_uri": "https://localhost:8080/"
        }
      },
      "outputs": [
        {
          "output_type": "stream",
          "name": "stdout",
          "text": [
            "a:\n",
            " [[1 2]\n",
            " [3 4]\n",
            " [5 6]]\n",
            "a.shape (3, 2)\n",
            "foo [1 4 5] (3,)\n",
            "bar [1 4 5] (3,)\n",
            "Change Test 1:\n",
            "foo:\n",
            " [99  4  5]\n",
            "a:\n",
            " [[1 2]\n",
            " [3 4]\n",
            " [5 6]]\n",
            "Change Test 2:\n",
            "bar:\n",
            " [10  4  5]\n",
            "a:\n",
            " [[1 2]\n",
            " [3 4]\n",
            " [5 6]]\n"
          ]
        }
      ],
      "source": [
        "a = np.array([[1,2], [3, 4], [5, 6]])\n",
        "print(\"a:\\n\", a)\n",
        "print(\"a.shape\", a.shape)\n",
        "\n",
        "# An example of integer array indexing.\n",
        "# The returned array will have shape (3,)\n",
        "foo = a[[0, 1, 2], [0, 1, 0]]\n",
        "print(\"foo\", foo, foo.shape)\n",
        "\n",
        "# The above example of integer array indexing is equivalent to this:\n",
        "bar = np.array([a[0, 0], a[1, 1], a[2, 0]])\n",
        "print(\"bar\", bar, bar.shape)\n",
        "\n",
        "# note that a does not change when we change foo\n",
        "print(\"Change Test 1:\")\n",
        "foo[0] = 99\n",
        "print(\"foo:\\n\", foo)\n",
        "print(\"a:\\n\", a)\n",
        "\n",
        "# note a does not change when when we change bar either\n",
        "print(\"Change Test 2:\")\n",
        "bar[0] = 10\n",
        "print(\"bar:\\n\", bar)\n",
        "print(\"a:\\n\", a)"
      ]
    },
    {
      "cell_type": "code",
      "execution_count": null,
      "metadata": {
        "id": "nXU4ct1il4Uf",
        "outputId": "91af1497-17e0-4e1b-b9e0-684242d9c722",
        "colab": {
          "base_uri": "https://localhost:8080/"
        }
      },
      "outputs": [
        {
          "output_type": "stream",
          "name": "stdout",
          "text": [
            "a:\n",
            " [[1 2]\n",
            " [3 4]\n",
            " [5 6]]\n",
            "\n",
            "a[[0, 0], [1, 1]] ==> [2 2]\n",
            "np.array([a[0, 1], a[0, 1]] ==> [2 2]\n"
          ]
        }
      ],
      "source": [
        "# When using integer array indexing, you can reuse the same\n",
        "# element from the source array.  Here we create a new array \n",
        "# using element 0,1 in matrix a twice.\n",
        "print(\"a:\\n\", a)\n",
        "print()\n",
        "print(\"a[[0, 0], [1, 1]] ==>\", a[[0, 0], [1, 1]])\n",
        "\n",
        "# Equivalent to the previous integer array indexing example\n",
        "print(\"np.array([a[0, 1], a[0, 1]] ==>\", np.array([a[0, 1], a[0, 1]]))"
      ]
    },
    {
      "cell_type": "markdown",
      "metadata": {
        "id": "qWhvOXntl4Ug"
      },
      "source": [
        "One useful trick with integer array indexing is selecting or mutating one element from each row of a matrix:"
      ]
    },
    {
      "cell_type": "code",
      "execution_count": null,
      "metadata": {
        "id": "WBfGQ14_l4Ug",
        "outputId": "863deb54-0f23-4591-e48b-a5a414b2650a",
        "colab": {
          "base_uri": "https://localhost:8080/"
        }
      },
      "outputs": [
        {
          "output_type": "stream",
          "name": "stdout",
          "text": [
            "a:\n",
            " [[ 1  2  3]\n",
            " [ 4  5  6]\n",
            " [ 7  8  9]\n",
            " [10 11 12]]\n"
          ]
        }
      ],
      "source": [
        "# Create a new array from which we will select elements\n",
        "a = np.array([[1,2,3], [4,5,6], [7,8,9], [10, 11, 12]])\n",
        "print(\"a:\\n\", a)"
      ]
    },
    {
      "cell_type": "code",
      "execution_count": null,
      "metadata": {
        "id": "_BgjWWfCl4Ug",
        "outputId": "b7a5d014-76ff-4707-ccd9-bddbaeae5b0e",
        "colab": {
          "base_uri": "https://localhost:8080/"
        }
      },
      "outputs": [
        {
          "output_type": "stream",
          "name": "stdout",
          "text": [
            "[ 1  6  7 11]\n"
          ]
        }
      ],
      "source": [
        "# Create an array of indices\n",
        "b = np.array([0, 2, 0, 1])\n",
        "\n",
        "# Select one element from each row of a using the indices in b\n",
        "print(a[np.arange(a.shape[0]), b])  # Prints \"[ 1  6  7 11]\""
      ]
    },
    {
      "cell_type": "code",
      "execution_count": null,
      "metadata": {
        "scrolled": true,
        "id": "Y9r5aefsl4Ug",
        "outputId": "c2379b44-7dbf-49f9-f59e-c9d0bada5506",
        "colab": {
          "base_uri": "https://localhost:8080/"
        }
      },
      "outputs": [
        {
          "output_type": "stream",
          "name": "stdout",
          "text": [
            "[[11  2  3]\n",
            " [ 4  5 16]\n",
            " [17  8  9]\n",
            " [10 21 12]]\n"
          ]
        }
      ],
      "source": [
        "# Mutate one element from each row of a using the indices in b\n",
        "a[np.arange(a.shape[0]), b] += 10\n",
        "print(a)"
      ]
    },
    {
      "cell_type": "markdown",
      "metadata": {
        "id": "827ev02Zl4Uh"
      },
      "source": [
        "Boolean array indexing: Boolean array indexing lets you pick out arbitrary elements of an array. Frequently this type of indexing is used to select the elements of an array that satisfy some condition. Here is an example:"
      ]
    },
    {
      "cell_type": "code",
      "execution_count": null,
      "metadata": {
        "id": "HfMoLCtUl4Uh",
        "outputId": "2b308b24-c1c9-4a7e-a2b1-5e5cf2461df3",
        "colab": {
          "base_uri": "https://localhost:8080/"
        }
      },
      "outputs": [
        {
          "output_type": "stream",
          "name": "stdout",
          "text": [
            "a:\n",
            " [[1 2]\n",
            " [3 4]\n",
            " [5 6]]\n",
            "bool_idx:\n",
            " [[False False]\n",
            " [ True  True]\n",
            " [ True  True]]\n"
          ]
        }
      ],
      "source": [
        "a = np.array([[1,2], [3, 4], [5, 6]])\n",
        "print(\"a:\\n\", a)\n",
        "\n",
        "bool_idx = (a > 2)  # Find the elements of a that are bigger than 2;\n",
        "                    # this returns a numpy array of Booleans of the same\n",
        "                    # shape as a, where each slot of bool_idx tells\n",
        "                    # whether that element of a is > 2.\n",
        "\n",
        "print(\"bool_idx:\\n\", bool_idx)"
      ]
    },
    {
      "cell_type": "code",
      "execution_count": null,
      "metadata": {
        "id": "t-3lyih-l4Uh",
        "outputId": "380caa82-be56-4e7b-ebf2-352add687581",
        "colab": {
          "base_uri": "https://localhost:8080/"
        }
      },
      "outputs": [
        {
          "output_type": "stream",
          "name": "stdout",
          "text": [
            "a[bool_idx]: [3 4 5 6]\n",
            "a[a > 2]: [3 4 5 6]\n"
          ]
        }
      ],
      "source": [
        "# We use boolean array indexing to construct a rank 1 array\n",
        "# consisting of the elements of values corresponding to the True values\n",
        "# of bool_idx\n",
        "print(\"a[bool_idx]:\", a[bool_idx])\n",
        "\n",
        "# We can do all of the above in a single concise statement:\n",
        "print(\"a[a > 2]:\", a[a > 2])"
      ]
    },
    {
      "cell_type": "markdown",
      "metadata": {
        "id": "-Dg3vu75l4Uh"
      },
      "source": [
        "For brevity we have left out a lot of details about numpy array indexing; if you want to know more you should read the documentation.  Note that the assigned reading in Python Data Science Handbook is a great source of information."
      ]
    },
    {
      "cell_type": "markdown",
      "metadata": {
        "id": "9DLtQGEKl4Uh"
      },
      "source": [
        "### Activity:  Reverse the rows and cols in the following matrix:"
      ]
    },
    {
      "cell_type": "code",
      "execution_count": null,
      "metadata": {
        "id": "F9CScK3Yl4Ui",
        "outputId": "c344a17f-baa0-4337-a712-d5d3407b4453",
        "colab": {
          "base_uri": "https://localhost:8080/"
        }
      },
      "outputs": [
        {
          "output_type": "stream",
          "name": "stdout",
          "text": [
            "foo:\n",
            " [[0 1 2]\n",
            " [3 4 5]\n",
            " [6 7 8]]\n",
            "\n",
            "reversed:\n",
            "\n",
            "[[8 7 6]\n",
            " [5 4 3]\n",
            " [2 1 0]]\n"
          ]
        }
      ],
      "source": [
        "foo = np.arange(9).reshape(3,3)\n",
        "print(\"foo:\\n\", foo)\n",
        "print()\n",
        "\n",
        "print(\"reversed:\\n\")\n",
        "print(foo[::-1, ::-1])\n",
        "\n",
        "# the result should look like this:\n",
        "#[[8 7 6]\n",
        "# [5 4 3]\n",
        "# [2 1 0]]"
      ]
    },
    {
      "cell_type": "markdown",
      "metadata": {
        "id": "Z3FgEoyfl4Ui"
      },
      "source": [
        "### Datatypes"
      ]
    },
    {
      "cell_type": "markdown",
      "metadata": {
        "id": "BqOityDFl4Ui"
      },
      "source": [
        "Every numpy array is a grid of elements of the same type. Numpy provides a large set of numeric datatypes that you can use to construct arrays. Numpy tries to guess a datatype when you create an array, but functions that construct arrays usually also include an optional argument to explicitly specify the datatype. Here is an example:"
      ]
    },
    {
      "cell_type": "code",
      "execution_count": null,
      "metadata": {
        "id": "v0KpUSSwl4Ui",
        "outputId": "05ea31e9-7841-43de-c660-2e16c6e9a85f",
        "colab": {
          "base_uri": "https://localhost:8080/"
        }
      },
      "outputs": [
        {
          "output_type": "stream",
          "name": "stdout",
          "text": [
            "int64 float64 int64\n"
          ]
        }
      ],
      "source": [
        "x = np.array([1, 2])  # Let numpy choose the datatype\n",
        "y = np.array([1.0, 2.0])  # Let numpy choose the datatype\n",
        "z = np.array([1, 2], dtype=np.int64)  # Force a particular datatype\n",
        "\n",
        "print(x.dtype, y.dtype, z.dtype)"
      ]
    },
    {
      "cell_type": "markdown",
      "metadata": {
        "id": "ng8E2X3Cl4Ui"
      },
      "source": [
        "You can read all about numpy datatypes in the [documentation](http://docs.scipy.org/doc/numpy/reference/arrays.dtypes.html)."
      ]
    },
    {
      "cell_type": "markdown",
      "metadata": {
        "id": "7xzRDvsll4Uj"
      },
      "source": [
        "### Array math"
      ]
    },
    {
      "cell_type": "markdown",
      "metadata": {
        "id": "MoY3fCrdl4Uj"
      },
      "source": [
        "Basic mathematical functions operate elementwise on arrays, and are available both as operator overloads and as functions in the numpy module:"
      ]
    },
    {
      "cell_type": "code",
      "execution_count": null,
      "metadata": {
        "id": "VF4DdQhwl4Uj",
        "outputId": "7e95d5da-f21d-4684-87d3-af7b200f8878",
        "colab": {
          "base_uri": "https://localhost:8080/"
        }
      },
      "outputs": [
        {
          "output_type": "stream",
          "name": "stdout",
          "text": [
            "x:\n",
            " [[1. 2.]\n",
            " [3. 4.]]\n",
            "y:\n",
            " [[5. 6.]\n",
            " [7. 8.]]\n",
            "x+y:\n",
            " [[ 6.  8.]\n",
            " [10. 12.]]\n",
            "np.add(x,y):\n",
            " [[ 6.  8.]\n",
            " [10. 12.]]\n"
          ]
        }
      ],
      "source": [
        "x = np.array([[1,2],[3,4]], dtype=np.float64)\n",
        "y = np.array([[5,6],[7,8]], dtype=np.float64)\n",
        "\n",
        "# Elementwise sum; both produce the array\n",
        "print(\"x:\\n\", x)\n",
        "print(\"y:\\n\", y)\n",
        "print(\"x+y:\\n\", x + y)\n",
        "print(\"np.add(x,y):\\n\", np.add(x, y))"
      ]
    },
    {
      "cell_type": "code",
      "execution_count": null,
      "metadata": {
        "id": "gU2WEY86l4Uj",
        "outputId": "6c8d25e4-ff92-45bb-ec96-2923701ed745",
        "colab": {
          "base_uri": "https://localhost:8080/"
        }
      },
      "outputs": [
        {
          "output_type": "stream",
          "name": "stdout",
          "text": [
            "x:\n",
            " [[1. 2.]\n",
            " [3. 4.]]\n",
            "y:\n",
            " [[5. 6.]\n",
            " [7. 8.]]\n",
            "x-y:\n",
            " [[-4. -4.]\n",
            " [-4. -4.]]\n",
            "np.subtract(x, y):\n",
            " [[-4. -4.]\n",
            " [-4. -4.]]\n"
          ]
        }
      ],
      "source": [
        "# Elementwise difference; both produce the array\n",
        "print(\"x:\\n\", x)\n",
        "print(\"y:\\n\", y)\n",
        "print(\"x-y:\\n\", x - y)\n",
        "print(\"np.subtract(x, y):\\n\", np.subtract(x, y))"
      ]
    },
    {
      "cell_type": "code",
      "execution_count": null,
      "metadata": {
        "id": "nf6TsN-1l4Uj",
        "outputId": "a759cfae-9b14-4e6a-b195-1f729b92a943",
        "colab": {
          "base_uri": "https://localhost:8080/"
        }
      },
      "outputs": [
        {
          "output_type": "stream",
          "name": "stdout",
          "text": [
            "x:\n",
            " [[1. 2.]\n",
            " [3. 4.]]\n",
            "y:\n",
            " [[5. 6.]\n",
            " [7. 8.]]\n",
            "x*y:\n",
            " [[ 5. 12.]\n",
            " [21. 32.]]\n",
            "np.multiply(x, y):\n",
            " [[ 5. 12.]\n",
            " [21. 32.]]\n"
          ]
        }
      ],
      "source": [
        "# Elementwise product; both produce the array\n",
        "print(\"x:\\n\", x)\n",
        "print(\"y:\\n\", y)\n",
        "print(\"x*y:\\n\", x * y)\n",
        "print(\"np.multiply(x, y):\\n\", np.multiply(x, y))"
      ]
    },
    {
      "cell_type": "code",
      "execution_count": null,
      "metadata": {
        "id": "UAIVU65Ol4Uk",
        "outputId": "6f16c96a-f124-41b1-d45e-6d65b9849ebc",
        "colab": {
          "base_uri": "https://localhost:8080/"
        }
      },
      "outputs": [
        {
          "output_type": "stream",
          "name": "stdout",
          "text": [
            "x:\n",
            " [[1. 2.]\n",
            " [3. 4.]]\n",
            "y:\n",
            " [[5. 6.]\n",
            " [7. 8.]]\n",
            "x/y:\n",
            " [[0.2        0.33333333]\n",
            " [0.42857143 0.5       ]]\n",
            "np.divide(x, y):\n",
            " [[0.2        0.33333333]\n",
            " [0.42857143 0.5       ]]\n"
          ]
        }
      ],
      "source": [
        "# Elementwise division; both produce the array\n",
        "# [[ 0.2         0.33333333]\n",
        "#  [ 0.42857143  0.5       ]]\n",
        "print(\"x:\\n\", x)\n",
        "print(\"y:\\n\", y)\n",
        "print(\"x/y:\\n\", x / y)\n",
        "print(\"np.divide(x, y):\\n\", np.divide(x, y))"
      ]
    },
    {
      "cell_type": "code",
      "execution_count": null,
      "metadata": {
        "id": "LUcex502l4Uk",
        "outputId": "164dd4b5-a823-49df-884e-0e0c71fed1a6",
        "colab": {
          "base_uri": "https://localhost:8080/"
        }
      },
      "outputs": [
        {
          "output_type": "stream",
          "name": "stdout",
          "text": [
            "x:\n",
            " [[1. 2.]\n",
            " [3. 4.]]\n",
            "np.sqrt(x):\n",
            " [[1.         1.41421356]\n",
            " [1.73205081 2.        ]]\n"
          ]
        }
      ],
      "source": [
        "# Elementwise square root; produces the array\n",
        "# [[ 1.          1.41421356]\n",
        "#  [ 1.73205081  2.        ]]\n",
        "print(\"x:\\n\", x)\n",
        "print(\"np.sqrt(x):\\n\", np.sqrt(x))"
      ]
    },
    {
      "cell_type": "markdown",
      "metadata": {
        "id": "-S8CZWGal4Uk"
      },
      "source": [
        "Note that unlike MATLAB, `*` is elementwise multiplication, not matrix multiplication. We instead use the dot function to compute inner products of vectors, to multiply a vector by a matrix, and to multiply matrices. dot is available both as a function in the numpy module and as an instance method of array objects:"
      ]
    },
    {
      "cell_type": "code",
      "execution_count": null,
      "metadata": {
        "id": "95vc3ZGfl4Uk",
        "outputId": "9642d352-946c-4039-c035-87e8e93a0071",
        "colab": {
          "base_uri": "https://localhost:8080/"
        }
      },
      "outputs": [
        {
          "output_type": "stream",
          "name": "stdout",
          "text": [
            "v:\n",
            " [ 9 10]\n",
            "w:\n",
            " [11 12]\n",
            "v.dot(w): 219\n",
            "np.dot(v, w): 219\n"
          ]
        }
      ],
      "source": [
        "v = np.array([9,10])\n",
        "w = np.array([11, 12])\n",
        "\n",
        "# Inner product of vectors; both produce 219\n",
        "print(\"v:\\n\", v)\n",
        "print(\"w:\\n\", w)\n",
        "print(\"v.dot(w):\", v.dot(w))\n",
        "print(\"np.dot(v, w):\", np.dot(v, w))"
      ]
    },
    {
      "cell_type": "markdown",
      "metadata": {
        "id": "PXpJtnsXl4Ul"
      },
      "source": [
        "In the following cell, v has the shape (2,) which means that it is a one dimensional array.  Note that this is not not a well defined problem because strictly speaking, in the dot product of A and B, the number of columns in A must equal the number of rows in B.  The np.dot function has rules to deal with this and uses a \"sum product\".  Note that the resulting dimension is (2,) indicating a single dimension array.  See help for the numpy dot funciton:  https://docs.scipy.org/doc/numpy/reference/generated/numpy.dot.html#numpy.dot"
      ]
    },
    {
      "cell_type": "code",
      "execution_count": null,
      "metadata": {
        "scrolled": true,
        "id": "BGOHJtr6l4Ul",
        "outputId": "fac5101e-0e2d-42d2-bdf3-7f4e26c34571",
        "colab": {
          "base_uri": "https://localhost:8080/"
        }
      },
      "outputs": [
        {
          "output_type": "stream",
          "name": "stdout",
          "text": [
            "x:\n",
            " [[1 2]\n",
            " [3 4]]\n",
            "x.shape: (2, 2)\n",
            "v:\n",
            " [ 9 10]\n",
            "v.shape: (2,)\n",
            "x.dot(v)\n",
            "[29 67]\n",
            "np.dot(x, v)\n",
            "[29 67]\n",
            "np.dot(x, v).shape: (2,)\n"
          ]
        }
      ],
      "source": [
        "# Matrix / vector product; both produce the rank 1 array [29 67]\n",
        "x = np.array([[1,2],[3,4]])\n",
        "y = np.array([[5,6],[7,8]])\n",
        "print(\"x:\\n\", x)\n",
        "print(\"x.shape:\", x.shape)\n",
        "print(\"v:\\n\", v)\n",
        "print(\"v.shape:\", v.shape)\n",
        "print(\"x.dot(v)\")\n",
        "print(x.dot(v))\n",
        "print(\"np.dot(x, v)\")\n",
        "print(np.dot(x, v))\n",
        "print(\"np.dot(x, v).shape:\", np.dot(x, v).shape)"
      ]
    },
    {
      "cell_type": "markdown",
      "metadata": {
        "id": "H4zsDa_nl4Ul"
      },
      "source": [
        "In the following cell, we redefine v (and call it v1) to have a better defined shape of (2,1).  Now np.dot(x, v1) produces the expected resulting shape of (2, 1)."
      ]
    },
    {
      "cell_type": "code",
      "execution_count": null,
      "metadata": {
        "scrolled": true,
        "id": "AcNb09cUl4Ul",
        "outputId": "6cca9720-b79d-447f-c502-3eb3c71e7769",
        "colab": {
          "base_uri": "https://localhost:8080/"
        }
      },
      "outputs": [
        {
          "output_type": "stream",
          "name": "stdout",
          "text": [
            "x:\n",
            " [[1 2]\n",
            " [3 4]]\n",
            "x.shape: (2, 2)\n",
            "v1:\n",
            " [[ 9]\n",
            " [10]]\n",
            "v1.shape: (2, 1)\n",
            "np.dot(x, v1):\n",
            " [[29]\n",
            " [67]]\n",
            "np.dot(x, v1).shape:\n",
            " (2, 1)\n"
          ]
        }
      ],
      "source": [
        "v1 = np.array([[9], [10]])\n",
        "print(\"x:\\n\", x)\n",
        "print(\"x.shape:\", x.shape)\n",
        "print(\"v1:\\n\", v1)\n",
        "print(\"v1.shape:\", v1.shape)\n",
        "print(\"np.dot(x, v1):\\n\", np.dot(x, v1))\n",
        "print(\"np.dot(x, v1).shape:\\n\", np.dot(x, v1).shape)"
      ]
    },
    {
      "cell_type": "markdown",
      "metadata": {
        "id": "pvOCjPdFl4Um"
      },
      "source": [
        "In the next cell we compute the dot product of 2 matrices where each matrix has a shape of (2,2) resulting in a shape of (2,2)."
      ]
    },
    {
      "cell_type": "code",
      "execution_count": null,
      "metadata": {
        "scrolled": true,
        "id": "F3OCL0rFl4Um",
        "outputId": "033e597b-6ff9-4193-c354-03ed0466166a",
        "colab": {
          "base_uri": "https://localhost:8080/"
        }
      },
      "outputs": [
        {
          "output_type": "stream",
          "name": "stdout",
          "text": [
            "x:\n",
            " [[1 2]\n",
            " [3 4]]\n",
            "y:\n",
            " [[5 6]\n",
            " [7 8]]\n",
            "x.dot(y):\n",
            "[[19 22]\n",
            " [43 50]]\n",
            "np.dot(x, y):\n",
            "[[19 22]\n",
            " [43 50]]\n"
          ]
        }
      ],
      "source": [
        "# Matrix / matrix product; both produce the rank 2 array\n",
        "# [[19 22]\n",
        "#  [43 50]]\n",
        "print(\"x:\\n\", x)\n",
        "print(\"y:\\n\", y)\n",
        "print(\"x.dot(y):\")\n",
        "print(x.dot(y))\n",
        "print(\"np.dot(x, y):\")\n",
        "print(np.dot(x, y))"
      ]
    },
    {
      "cell_type": "markdown",
      "metadata": {
        "id": "hQKY-mQhl4Um"
      },
      "source": [
        "Numpy provides many useful functions for performing computations on arrays; one of the most useful is `sum`:"
      ]
    },
    {
      "cell_type": "code",
      "execution_count": null,
      "metadata": {
        "id": "mBUvuIXEl4Un",
        "outputId": "3b27b824-3381-493d-b618-5f0c27abddd4",
        "colab": {
          "base_uri": "https://localhost:8080/"
        }
      },
      "outputs": [
        {
          "output_type": "stream",
          "name": "stdout",
          "text": [
            "[[1 2]\n",
            " [3 4]]\n",
            "10\n",
            "[4 6]\n",
            "[3 7]\n"
          ]
        }
      ],
      "source": [
        "x = np.array([[1,2],[3,4]])\n",
        "\n",
        "print(x)\n",
        "print(np.sum(x))  # Compute sum of all elements; prints \"10\"\n",
        "print(np.sum(x, axis=0))  # Compute sum of each column; prints \"[4 6]\"\n",
        "print(np.sum(x, axis=1))  # Compute sum of each row; prints \"[3 7]\""
      ]
    },
    {
      "cell_type": "markdown",
      "metadata": {
        "id": "9j8uUYYSl4Un"
      },
      "source": [
        "You can find the full list of mathematical functions provided by numpy in the [documentation](http://docs.scipy.org/doc/numpy/reference/routines.math.html).\n",
        "\n",
        "Apart from computing mathematical functions using arrays, we frequently need to reshape or otherwise manipulate data in arrays. The simplest example of this type of operation is transposing a matrix; to transpose a matrix, simply use the T attribute of an array object:"
      ]
    },
    {
      "cell_type": "code",
      "execution_count": null,
      "metadata": {
        "id": "52aOMpecl4Uo",
        "outputId": "54d642bc-d7c2-40a6-eb66-2e6bde8cbffd",
        "colab": {
          "base_uri": "https://localhost:8080/"
        }
      },
      "outputs": [
        {
          "output_type": "stream",
          "name": "stdout",
          "text": [
            "[[1 2]\n",
            " [3 4]]\n",
            "[[1 3]\n",
            " [2 4]]\n"
          ]
        }
      ],
      "source": [
        "print(x)\n",
        "print(x.T)"
      ]
    },
    {
      "cell_type": "code",
      "execution_count": null,
      "metadata": {
        "id": "_k1hgNBcl4Uo",
        "outputId": "acaa0c8b-cb2f-4c29-b0e4-fed2cad65877",
        "colab": {
          "base_uri": "https://localhost:8080/"
        }
      },
      "outputs": [
        {
          "output_type": "stream",
          "name": "stdout",
          "text": [
            "[[1 2 3]]\n",
            "[[1]\n",
            " [2]\n",
            " [3]]\n"
          ]
        }
      ],
      "source": [
        "v = np.array([[1,2,3]])\n",
        "print(v) \n",
        "print(v.T)"
      ]
    },
    {
      "cell_type": "markdown",
      "metadata": {
        "id": "KXYbZr4wl4Uo"
      },
      "source": [
        "### Broadcasting"
      ]
    },
    {
      "cell_type": "markdown",
      "metadata": {
        "id": "XwCi4N0Xl4Up"
      },
      "source": [
        "Broadcasting is a powerful mechanism that allows numpy to work with arrays of different shapes when performing arithmetic operations. Frequently we have a smaller array and a larger array, and we want to use the smaller array multiple times to perform some operation on the larger array.\n",
        "\n",
        "For example, suppose that we want to add a constant vector to each row of a matrix. We could do it like this:"
      ]
    },
    {
      "cell_type": "code",
      "execution_count": null,
      "metadata": {
        "scrolled": true,
        "id": "heZLZFo3l4Up",
        "outputId": "2d75d83d-0704-40da-fc1b-c06b5ad8d5a7",
        "colab": {
          "base_uri": "https://localhost:8080/"
        }
      },
      "outputs": [
        {
          "output_type": "stream",
          "name": "stdout",
          "text": [
            "x:\n",
            " [[ 1  2  3]\n",
            " [ 4  5  6]\n",
            " [ 7  8  9]\n",
            " [10 11 12]]\n",
            "v:\n",
            " [1 0 1]\n",
            "y:\n",
            " [[ 2  2  4]\n",
            " [ 5  5  7]\n",
            " [ 8  8 10]\n",
            " [11 11 13]]\n"
          ]
        }
      ],
      "source": [
        "# We will add the vector v to each row of the matrix x,\n",
        "# storing the result in the matrix y\n",
        "x = np.array([[1,2,3], [4,5,6], [7,8,9], [10, 11, 12]])\n",
        "v = np.array([1, 0, 1])\n",
        "y = np.empty_like(x)   # Create an empty matrix with the same shape as x\n",
        "\n",
        "# Add the vector v to each row of the matrix x with an explicit loop\n",
        "for i in range(y.shape[0]):\n",
        "    y[i, :] = x[i, :] + v\n",
        "\n",
        "print(\"x:\\n\", x)\n",
        "print(\"v:\\n\", v)\n",
        "print(\"y:\\n\", y)"
      ]
    },
    {
      "cell_type": "markdown",
      "metadata": {
        "id": "iIITINd6l4Up"
      },
      "source": [
        "This works; however when the matrix `x` is very large, computing an explicit loop in Python could be slow. Note that adding the vector v to each row of the matrix `x` is equivalent to forming a matrix `vv` by stacking multiple copies of `v` vertically, then performing elementwise summation of `x` and `vv`. We could implement this approach like this:"
      ]
    },
    {
      "cell_type": "code",
      "execution_count": null,
      "metadata": {
        "id": "_DtcBAJVl4Up",
        "outputId": "c7c4d86a-a64a-4e14-f4c9-be1dda9987cc",
        "colab": {
          "base_uri": "https://localhost:8080/"
        }
      },
      "outputs": [
        {
          "output_type": "stream",
          "name": "stdout",
          "text": [
            "v:\n",
            " [1 0 1]\n",
            "vv:\n",
            " [[1 0 1]\n",
            " [1 0 1]\n",
            " [1 0 1]\n",
            " [1 0 1]]\n"
          ]
        }
      ],
      "source": [
        "vv = np.tile(v, (x.shape[0], 1))  # Stack 4 copies of v on top of each other\n",
        "print(\"v:\\n\", v)\n",
        "print(\"vv:\\n\", vv)                # Prints \"[[1 0 1]\n",
        "                                  #          [1 0 1]\n",
        "                                  #          [1 0 1]\n",
        "                                  #          [1 0 1]]\""
      ]
    },
    {
      "cell_type": "code",
      "execution_count": null,
      "metadata": {
        "id": "ocDhPod1l4Uq",
        "outputId": "b04e0fb9-c985-4b66-c9e4-b28aac205f91",
        "colab": {
          "base_uri": "https://localhost:8080/"
        }
      },
      "outputs": [
        {
          "output_type": "stream",
          "name": "stdout",
          "text": [
            "x:\n",
            " [[ 1  2  3]\n",
            " [ 4  5  6]\n",
            " [ 7  8  9]\n",
            " [10 11 12]]\n",
            "vv:\n",
            " [[1 0 1]\n",
            " [1 0 1]\n",
            " [1 0 1]\n",
            " [1 0 1]]\n",
            "x + vv:\n",
            " [[ 2  2  4]\n",
            " [ 5  5  7]\n",
            " [ 8  8 10]\n",
            " [11 11 13]]\n"
          ]
        }
      ],
      "source": [
        "y = x + vv  # Add x and vv elementwise\n",
        "\n",
        "print(\"x:\\n\", x)\n",
        "print(\"vv:\\n\", vv)\n",
        "print(\"x + vv:\\n\", y)"
      ]
    },
    {
      "cell_type": "markdown",
      "metadata": {
        "id": "HDc8YhS3l4Uq"
      },
      "source": [
        "Numpy broadcasting allows us to perform this computation without actually creating multiple copies of v. Consider this version, using broadcasting:"
      ]
    },
    {
      "cell_type": "code",
      "execution_count": null,
      "metadata": {
        "id": "BSB0hBkVl4Uq",
        "outputId": "c9033e27-c73e-4b80-e799-6c1d80be4c30",
        "colab": {
          "base_uri": "https://localhost:8080/"
        }
      },
      "outputs": [
        {
          "output_type": "stream",
          "name": "stdout",
          "text": [
            "x:\n",
            " [[ 1  2  3]\n",
            " [ 4  5  6]\n",
            " [ 7  8  9]\n",
            " [10 11 12]]\n",
            "v:\n",
            " [1 0 1]\n",
            "x + v:\n",
            " [[ 2  2  4]\n",
            " [ 5  5  7]\n",
            " [ 8  8 10]\n",
            " [11 11 13]]\n"
          ]
        }
      ],
      "source": [
        "import numpy as np\n",
        "\n",
        "# We will add the vector v to each row of the matrix x,\n",
        "# storing the result in the matrix y\n",
        "x = np.array([[1,2,3], [4,5,6], [7,8,9], [10, 11, 12]])\n",
        "v = np.array([1, 0, 1])\n",
        "y = x + v  # Add v to each row of x using broadcasting\n",
        "\n",
        "print(\"x:\\n\", x)\n",
        "print(\"v:\\n\", v)\n",
        "print(\"x + v:\\n\", y)"
      ]
    },
    {
      "cell_type": "markdown",
      "metadata": {
        "id": "-J2DOuhPl4Ur"
      },
      "source": [
        "The line `y = x + v` works even though `x` has shape `(4, 3)` and `v` has shape `(3,)` due to broadcasting; this line works as if v actually had shape `(4, 3)`, where each row was a copy of `v`, and the sum was performed elementwise.\n",
        "\n",
        "Broadcasting two arrays together follows these rules:\n",
        "\n",
        "1. If the arrays do not have the same rank, prepend the shape of the lower rank array with 1s until both shapes have the same length.\n",
        "2. The two arrays are said to be compatible in a dimension if they have the same size in the dimension, or if one of the arrays has size 1 in that dimension.\n",
        "3. The arrays can be broadcast together if they are compatible in all dimensions.\n",
        "4. After broadcasting, each array behaves as if it had shape equal to the elementwise maximum of shapes of the two input arrays.\n",
        "5. In any dimension where one array had size 1 and the other array had size greater than 1, the first array behaves as if it were copied along that dimension\n",
        "\n",
        "If this explanation does not make sense, try reading the explanation from the [documentation](http://docs.scipy.org/doc/numpy/user/basics.broadcasting.html) or this [explanation](https://jakevdp.github.io/PythonDataScienceHandbook/02.05-computation-on-arrays-broadcasting.html) from the Python Data Science Handbook.\n",
        "\n",
        "Functions that support broadcasting are known as universal functions. You can find the list of all universal functions in the [documentation](http://docs.scipy.org/doc/numpy/reference/ufuncs.html#available-ufuncs).\n",
        "\n",
        "Here are some applications of broadcasting:"
      ]
    },
    {
      "cell_type": "code",
      "execution_count": null,
      "metadata": {
        "id": "NCon9mIol4Ur",
        "outputId": "be851dda-51a5-4404-cafb-d0f7ce090aaa",
        "colab": {
          "base_uri": "https://localhost:8080/"
        }
      },
      "outputs": [
        {
          "output_type": "stream",
          "name": "stdout",
          "text": [
            "v:\n",
            " [1 2 3]\n",
            "np.reshape(v, (3, 1)):\n",
            " [[1]\n",
            " [2]\n",
            " [3]]\n",
            "w:\n",
            " [4 5]\n",
            "np.reshape(v, (3, 1)) * w:\n",
            " [[ 4  5]\n",
            " [ 8 10]\n",
            " [12 15]]\n"
          ]
        }
      ],
      "source": [
        "# Compute outer product of vectors\n",
        "v = np.array([1,2,3])  # v has shape (3,)\n",
        "w = np.array([4,5])    # w has shape (2,)\n",
        "# To compute an outer product, we first reshape v to be a column\n",
        "# vector of shape (3, 1); we can then broadcast it against w to yield\n",
        "# an output of shape (3, 2), which is the outer product of v and w:\n",
        "\n",
        "print(\"v:\\n\", v)\n",
        "print(\"np.reshape(v, (3, 1)):\\n\", np.reshape(v, (3, 1)))\n",
        "print(\"w:\\n\", w)\n",
        "print(\"np.reshape(v, (3, 1)) * w:\\n\", np.reshape(v, (3, 1)) * w)"
      ]
    },
    {
      "cell_type": "code",
      "execution_count": null,
      "metadata": {
        "id": "7yytLV8Hl4Ur",
        "outputId": "5c55a057-bc73-4e45-c426-e10adfe332f9",
        "colab": {
          "base_uri": "https://localhost:8080/"
        }
      },
      "outputs": [
        {
          "output_type": "stream",
          "name": "stdout",
          "text": [
            "x:\n",
            " [[1 2 3]\n",
            " [4 5 6]]\n",
            "v: [1 2 3]\n",
            "x + v:\n",
            " [[2 4 6]\n",
            " [5 7 9]]\n"
          ]
        }
      ],
      "source": [
        "# Add a vector to each row of a matrix\n",
        "x = np.array([[1,2,3], [4,5,6]])\n",
        "# x has shape (2, 3) and v has shape (3,) so they broadcast to (2, 3),\n",
        "# giving the following matrix:\n",
        "\n",
        "print(\"x:\\n\", x)\n",
        "print(\"v:\", v)\n",
        "print(\"x + v:\\n\", x + v)"
      ]
    },
    {
      "cell_type": "code",
      "execution_count": null,
      "metadata": {
        "id": "2SL1Kf6Al4Us",
        "outputId": "60bb33e1-c262-402b-8bd0-dbb0514a4494",
        "colab": {
          "base_uri": "https://localhost:8080/"
        }
      },
      "outputs": [
        {
          "output_type": "stream",
          "name": "stdout",
          "text": [
            "x\n",
            " [[1 2 3]\n",
            " [4 5 6]]\n",
            "x.T:\n",
            " [[1 4]\n",
            " [2 5]\n",
            " [3 6]]\n",
            "w:\n",
            " [4 5]\n",
            "(x.T + w):\n",
            " [[ 5  9]\n",
            " [ 6 10]\n",
            " [ 7 11]]\n",
            "(x.T + w).T:\n",
            " [[ 5  6  7]\n",
            " [ 9 10 11]]\n"
          ]
        }
      ],
      "source": [
        "# Add a vector to each column of a matrix\n",
        "# x has shape (2, 3) and w has shape (2,).\n",
        "# If we transpose x then it has shape (3, 2) and can be broadcast\n",
        "# against w to yield a result of shape (3, 2); transposing this result\n",
        "# yields the final result of shape (2, 3) which is the matrix x with\n",
        "# the vector w added to each column. Gives the following matrix:\n",
        "\n",
        "print(\"x\\n\", x)\n",
        "print(\"x.T:\\n\", x.T)\n",
        "print(\"w:\\n\", w)\n",
        "print(\"(x.T + w):\\n\", (x.T + w))\n",
        "print(\"(x.T + w).T:\\n\", (x.T + w).T)"
      ]
    },
    {
      "cell_type": "code",
      "execution_count": null,
      "metadata": {
        "id": "5SAbP9yAl4Us",
        "outputId": "d2580c30-db1d-4d94-f88e-513a8482b1ba",
        "colab": {
          "base_uri": "https://localhost:8080/"
        }
      },
      "outputs": [
        {
          "output_type": "stream",
          "name": "stdout",
          "text": [
            "x:\n",
            " [[1 2 3]\n",
            " [4 5 6]]\n",
            "w:\n",
            " [4 5]\n",
            "np.reshape(w, (2, 1)):\n",
            " [[4]\n",
            " [5]]\n",
            "x + np.reshape(w, (2, 1))\n",
            " [[ 5  6  7]\n",
            " [ 9 10 11]]\n"
          ]
        }
      ],
      "source": [
        "# Another solution is to reshape w to be a row vector of shape (2, 1);\n",
        "# we can then broadcast it directly against x to produce the same\n",
        "# output.\n",
        "print(\"x:\\n\", x)\n",
        "print(\"w:\\n\", w)\n",
        "print(\"np.reshape(w, (2, 1)):\\n\", np.reshape(w, (2, 1)))\n",
        "print(\"x + np.reshape(w, (2, 1))\\n\", x + np.reshape(w, (2, 1)))"
      ]
    },
    {
      "cell_type": "code",
      "execution_count": null,
      "metadata": {
        "scrolled": false,
        "id": "LS1_1QNbl4Us",
        "outputId": "429d9db2-0c68-4697-971b-e948ccbd29d0",
        "colab": {
          "base_uri": "https://localhost:8080/"
        }
      },
      "outputs": [
        {
          "output_type": "stream",
          "name": "stdout",
          "text": [
            "x:\n",
            " [[1 2 3]\n",
            " [4 5 6]]\n",
            "x * 2:\n",
            " [[ 2  4  6]\n",
            " [ 8 10 12]]\n"
          ]
        }
      ],
      "source": [
        "# Multiply a matrix by a constant:\n",
        "# x has shape (2, 3). Numpy treats scalars as arrays of shape ();\n",
        "# these can be broadcast together to shape (2, 3), producing the\n",
        "# following array:\n",
        "print(\"x:\\n\", x)\n",
        "print(\"x * 2:\\n\", x * 2)"
      ]
    },
    {
      "cell_type": "markdown",
      "metadata": {
        "id": "cG4muL7jl4Us"
      },
      "source": [
        "Broadcasting typically makes your code more concise and faster, so you should strive to use it where possible."
      ]
    },
    {
      "cell_type": "markdown",
      "metadata": {
        "id": "aGZsYicOl4Ut"
      },
      "source": [
        "### Numpy Statistical Operations"
      ]
    },
    {
      "cell_type": "markdown",
      "metadata": {
        "id": "2zHWPorol4Ut"
      },
      "source": [
        "#### Sampling"
      ]
    },
    {
      "cell_type": "code",
      "execution_count": null,
      "metadata": {
        "id": "9q9qAv9Gl4Ut",
        "outputId": "1cc47154-909d-4fd8-d52f-eb6e90d19d09",
        "colab": {
          "base_uri": "https://localhost:8080/"
        }
      },
      "outputs": [
        {
          "output_type": "stream",
          "name": "stdout",
          "text": [
            "Sampling with replacement produced the following duplicates: [320 345 430]\n"
          ]
        }
      ],
      "source": [
        "## Sample with replacement\n",
        "# Create a sequence of integers\n",
        "sequence = np.arange(1000)\n",
        "\n",
        "# Take 100 samples with replacement using the uniform distribution\n",
        "samp_replace = np.random.choice(sequence, 100)\n",
        "\n",
        "# The following lines show exactly what values are duplicated in the samp_replace array\n",
        "# find the unique sample values, counts, and indices of each unique value\n",
        "unique, indices, counts = np.unique(samp_replace, return_counts=True, \n",
        "                                    return_index=True)\n",
        "\n",
        "# filter the unique values by duplicates\n",
        "duplicate_indices = unique[counts > 1]\n",
        "\n",
        "# Find the duplicate values\n",
        "duplicates = sequence[duplicate_indices]\n",
        "\n",
        "print(\"Sampling with replacement produced the following duplicates:\", duplicates)"
      ]
    },
    {
      "cell_type": "markdown",
      "metadata": {
        "id": "y0D9bGjPl4Ut"
      },
      "source": [
        "#### Expected Value"
      ]
    },
    {
      "cell_type": "markdown",
      "metadata": {
        "id": "c5xANL7Ql4Uu"
      },
      "source": [
        "The following cell uses np.mean to calculate averages.  Note that np.mean assumes that the probability of each element is equal."
      ]
    },
    {
      "cell_type": "code",
      "execution_count": null,
      "metadata": {
        "id": "FFDr3hjvl4Uu",
        "outputId": "ad3dd4af-96a6-4bc3-e347-05c20131ee60",
        "colab": {
          "base_uri": "https://localhost:8080/"
        }
      },
      "outputs": [
        {
          "output_type": "stream",
          "name": "stdout",
          "text": [
            "one_d_array: [1 2 3 4 5]\n",
            "np.mean(one_d_array): 3.0\n",
            "two_d_array:\n",
            "[[1 2 3]\n",
            " [4 5 6]\n",
            " [7 8 9]]\n",
            "Mean of axis 0 - column mean: [4. 5. 6.]\n",
            "Mean of axis 1 - row mean: [2. 5. 8.]\n"
          ]
        }
      ],
      "source": [
        "# Simple mean\n",
        "one_d_array=np.array([1,2,3,4,5])\n",
        "print(\"one_d_array:\", one_d_array)\n",
        "print(\"np.mean(one_d_array):\", np.mean(one_d_array))\n",
        "\n",
        "# 2 dimensional matrix mean\n",
        "\n",
        "# axis = None\n",
        "two_d_array = np.array([[1,2,3],[4,5,6],[7,8,9]])\n",
        "print(\"two_d_array:\")\n",
        "print(two_d_array)\n",
        "\n",
        "# mean with axis = 0\n",
        "print(\"Mean of axis 0 - column mean:\", np.mean(two_d_array, axis=0))\n",
        "\n",
        "# mean with axis = 1\n",
        "print(\"Mean of axis 1 - row mean:\", np.mean(two_d_array, axis=1))"
      ]
    },
    {
      "cell_type": "markdown",
      "metadata": {
        "id": "UvKIyxYLl4Uu"
      },
      "source": [
        "The next cell uses np.average to calculate means.  With np.average, the weight of each element can be specified."
      ]
    },
    {
      "cell_type": "code",
      "execution_count": null,
      "metadata": {
        "id": "sMkgjCsXl4Uu",
        "outputId": "13921d06-b2bb-4ada-eab5-97bd8ddc87b6",
        "colab": {
          "base_uri": "https://localhost:8080/"
        }
      },
      "outputs": [
        {
          "output_type": "stream",
          "name": "stdout",
          "text": [
            "x: [2, 4, 6, 8, 10]\n",
            "np.average(x): 6.0\n",
            "\n",
            "weights: [0.1, 0.2, 0.2, 0.3, 0.2]\n",
            "np.average(x, weights=w) 6.6\n"
          ]
        }
      ],
      "source": [
        "# weighted average\n",
        "# average assuming that all weights are equal\n",
        "\n",
        "x = [2,4,6,8,10]\n",
        "print(\"x:\", x)\n",
        "print(\"np.average(x):\", np.average(x))\n",
        "\n",
        "# Average with varying weights\n",
        "w = [.1, .2, .2, .3, .2]\n",
        "print()\n",
        "print(\"weights:\", w)\n",
        "print(\"np.average(x, weights=w)\", np.average(x, weights=w))"
      ]
    },
    {
      "cell_type": "markdown",
      "metadata": {
        "id": "1yL8CJhAl4Uv"
      },
      "source": [
        "#### Variance"
      ]
    },
    {
      "cell_type": "markdown",
      "metadata": {
        "id": "NizysAvyl4Uv"
      },
      "source": [
        "The numpy variance function has a ddof parameter for \"delta degrees of freedom\".  When calculating the variance of sample data, set ddof to 1.  When calculating the variance of population data, set variance to 0."
      ]
    },
    {
      "cell_type": "code",
      "execution_count": null,
      "metadata": {
        "id": "CRJvUSJBl4Uv",
        "outputId": "4ab3e42e-0a1c-409a-c39d-5d62f9f4f56d",
        "colab": {
          "base_uri": "https://localhost:8080/"
        }
      },
      "outputs": [
        {
          "output_type": "stream",
          "name": "stdout",
          "text": [
            "samp_variance: 3.5\n",
            "pop_variance: 2.9166666666666665\n"
          ]
        }
      ],
      "source": [
        "# Variance\n",
        "x = np.array([1,2,3,4,5,6])\n",
        "\n",
        "# sample variance\n",
        "samp_variance = np.var(x, ddof=1)\n",
        "print(\"samp_variance:\", samp_variance)\n",
        "\n",
        "# population variance\n",
        "pop_variance = np.var(x, ddof=0)\n",
        "print(\"pop_variance:\", pop_variance)"
      ]
    },
    {
      "cell_type": "markdown",
      "metadata": {
        "id": "NQB8rNw2l4Uv"
      },
      "source": [
        "#### Standard Deviation"
      ]
    },
    {
      "cell_type": "markdown",
      "metadata": {
        "id": "e_Kke4Ydl4Uw"
      },
      "source": [
        "Standard deviation also has a ddof variable.  In general, set ddof to 1 for sample data and 0 for population data like variance.  However, since the square root function is not linear, it is possible to pick better values for ddof."
      ]
    },
    {
      "cell_type": "code",
      "execution_count": null,
      "metadata": {
        "scrolled": true,
        "id": "xBmLOjDdl4Uw",
        "outputId": "9011dcce-3715-4ebd-d932-d1cd4f5df691",
        "colab": {
          "base_uri": "https://localhost:8080/"
        }
      },
      "outputs": [
        {
          "output_type": "stream",
          "name": "stdout",
          "text": [
            "Actual sigma: 3\n",
            "sigma_hat: 2.9907189711185094\n"
          ]
        },
        {
          "output_type": "display_data",
          "data": {
            "image/png": "[encoded data removed]",
            "text/plain": [
              "<Figure size 432x288 with 1 Axes>"
            ]
          },
          "metadata": {
            "needs_background": "light"
          }
        }
      ],
      "source": [
        "import matplotlib.pyplot as plt\n",
        "%matplotlib inline \n",
        "\n",
        "# define random normal characteristics\n",
        "mu = 0\n",
        "sigma = 3\n",
        "\n",
        "# create an array of random normal data\n",
        "rand_normal = np.random.normal(size=100000, loc=mu, scale=sigma)\n",
        "\n",
        "_, bins, _ = plt.hist(rand_normal, density=True, bins=30)\n",
        "\n",
        "# plot the true normal curve on top of the histogram\n",
        "plt.plot(bins, 1/(sigma * np.sqrt(2 * np.pi)) * \n",
        "         np.exp( - (bins - mu)**2 / (2 * sigma**2) ),\n",
        "         linewidth=2, color='r')\n",
        "\n",
        "# calculate the standard deviation of the generated data, assume ddof == 0 (population)\n",
        "sigma_hat = np.std(rand_normal)\n",
        "\n",
        "# plot sigma_hat\n",
        "plt.axvline(mu+sigma_hat, color='g')\n",
        "plt.axvline(mu-sigma_hat, color='g')\n",
        "\n",
        "# print the calculated sigma hat\n",
        "print(\"Actual sigma:\", sigma)\n",
        "print(\"sigma_hat:\", sigma_hat)"
      ]
    },
    {
      "cell_type": "markdown",
      "metadata": {
        "id": "IOMCT16zl4Uw"
      },
      "source": [
        "#### Covariance"
      ]
    },
    {
      "cell_type": "code",
      "execution_count": null,
      "metadata": {
        "id": "z3UV3m2Nl4Uw",
        "outputId": "b99e6c3f-1db3-4bd4-d2e3-06ded0c11f26",
        "colab": {
          "base_uri": "https://localhost:8080/"
        }
      },
      "outputs": [
        {
          "output_type": "stream",
          "name": "stdout",
          "text": [
            "pop_cov_matrix:\n",
            "\n",
            "[[ 6.66666667 -6.66666667]\n",
            " [-6.66666667  6.66666667]]\n",
            "samp_cov_matrix:\n",
            "\n",
            "[[ 7.5 -7.5]\n",
            " [-7.5  7.5]]\n"
          ]
        },
        {
          "output_type": "display_data",
          "data": {
            "image/png": "[encoded data removed]",
            "text/plain": [
              "<Figure size 432x288 with 1 Axes>"
            ]
          },
          "metadata": {
            "needs_background": "light"
          }
        }
      ],
      "source": [
        "# Define Negative Covariance Data\n",
        "x = np.array([1,2,3,4,5,6,7,8,9])\n",
        "y = np.array([9,8,7,6,5,4,3,2,1])\n",
        "\n",
        "# plot \n",
        "plt.plot(x,y)\n",
        "plt.title(\"Perfect Negative Correlation / Covariance\")\n",
        "plt.xlabel(\"X\")\n",
        "plt.ylabel(\"Y\")\n",
        "\n",
        "# population covariance\n",
        "pop_cov_matrix = np.cov(x, y, ddof=0)\n",
        "print(\"pop_cov_matrix:\\n\")\n",
        "print(pop_cov_matrix)\n",
        "\n",
        "# sample covariance\n",
        "samp_cov_matrix = np.cov(x, y, ddof=1)\n",
        "print(\"samp_cov_matrix:\\n\")\n",
        "print(samp_cov_matrix)"
      ]
    },
    {
      "cell_type": "markdown",
      "metadata": {
        "id": "oi2r2bcMl4Ux"
      },
      "source": [
        "#### Correlation"
      ]
    },
    {
      "cell_type": "code",
      "execution_count": null,
      "metadata": {
        "scrolled": false,
        "id": "4NHqgMG2l4Ux",
        "outputId": "9d4ed2c0-6d38-427e-cbce-f5a9186af777",
        "colab": {
          "base_uri": "https://localhost:8080/"
        }
      },
      "outputs": [
        {
          "output_type": "stream",
          "name": "stdout",
          "text": [
            "Perfect negative corr_matrix:\n",
            " [[ 1. -1.]\n",
            " [-1.  1.]]\n",
            "\n",
            "Iris feature names: ['sepal length (cm)', 'sepal width (cm)', 'petal length (cm)', 'petal width (cm)']\n",
            "Iris correlation matrix:\n",
            " [[ 1.         -0.11756978  0.87175378  0.81794113]\n",
            " [-0.11756978  1.         -0.4284401  -0.36612593]\n",
            " [ 0.87175378 -0.4284401   1.          0.96286543]\n",
            " [ 0.81794113 -0.36612593  0.96286543  1.        ]]\n"
          ]
        }
      ],
      "source": [
        "# Define Negative Correlation Data\n",
        "x = np.array([1,2,3,4,5,6,7,8,9])\n",
        "y = np.array([9,8,7,6,5,4,3,2,1])\n",
        "\n",
        "corr_matrix = np.corrcoef(x,y)\n",
        "print(\"Perfect negative corr_matrix:\\n\", corr_matrix)\n",
        "print()\n",
        "\n",
        "# load the iris data set\n",
        "from sklearn.datasets import load_iris\n",
        "iris_data = load_iris()\n",
        "\n",
        "# compute iris dataset correlation matrix\n",
        "# The correlation matrix cols and rows follow the feature name sequence shown in the print out below\n",
        "# note: rowvar = False tells np.cov that variables are in cols and obs in rows\n",
        "iris_cor = np.corrcoef(iris_data.data, rowvar=False)\n",
        "print(\"Iris feature names:\", iris_data.feature_names)\n",
        "print(\"Iris correlation matrix:\\n\", iris_cor)"
      ]
    },
    {
      "cell_type": "markdown",
      "metadata": {
        "id": "7ctE0W1jl4Ux"
      },
      "source": [
        "#### Central Limit Theorem Demo\n",
        "This section demonstrates the use of the central limit theorem by sampling a binomial distribution."
      ]
    },
    {
      "cell_type": "markdown",
      "metadata": {
        "id": "FukjGa28l4Uy"
      },
      "source": [
        "#### Binomial Distribution\n",
        "First we create and plot a binomial distribution - this doesn't look even close to being Gaussian!"
      ]
    },
    {
      "cell_type": "code",
      "execution_count": null,
      "metadata": {
        "id": "zp3blfb1l4Uy",
        "outputId": "bd277ee2-d8d9-42a2-8b8d-5600b4b7da76",
        "colab": {
          "base_uri": "https://localhost:8080/"
        }
      },
      "outputs": [
        {
          "output_type": "stream",
          "name": "stdout",
          "text": [
            "[0 1 1 1 0 0 0 1 1 0]\n"
          ]
        },
        {
          "output_type": "execute_result",
          "data": {
            "text/plain": [
              "Text(0, 0.5, 'Frequency')"
            ]
          },
          "metadata": {},
          "execution_count": 52
        },
        {
          "output_type": "display_data",
          "data": {
            "image/png": "[encoded data removed]",
            "text/plain": [
              "<Figure size 432x288 with 1 Axes>"
            ]
          },
          "metadata": {
            "needs_background": "light"
          }
        }
      ],
      "source": [
        "# create 10,000 binomial data points\n",
        "binomial_dat = np.random.binomial(1, 0.5, 10000)\n",
        "print(binomial_dat[:10])\n",
        "\n",
        "# plot the binomial data as a histogram\n",
        "_, _, _ = plt.hist(binomial_dat)\n",
        "plt.title(\"Binomial Histogram\")\n",
        "plt.xlabel(\"Outcome\")\n",
        "plt.ylabel(\"Frequency\")"
      ]
    },
    {
      "cell_type": "markdown",
      "metadata": {
        "id": "HODyoBsSl4Uy"
      },
      "source": [
        "In the next cell we sample the binomial data with replacement to demonstrate the central limit theorem.  As the number of observations per sample increases towards 30, the resulting distribution looks more and more like a normal distribution."
      ]
    },
    {
      "cell_type": "code",
      "execution_count": null,
      "metadata": {
        "scrolled": false,
        "id": "YVnPX2s1l4Uy",
        "outputId": "44a43a52-f8db-42c5-d45b-a939f0529658",
        "colab": {
          "base_uri": "https://localhost:8080/"
        }
      },
      "outputs": [
        {
          "output_type": "display_data",
          "data": {
            "text/plain": [
              "[None, None, None, None, None]"
            ]
          },
          "metadata": {}
        },
        {
          "output_type": "display_data",
          "data": {
            "image/png": "[encoded data removed]",
            "text/plain": [
              "<Figure size 432x288 with 1 Axes>"
            ]
          },
          "metadata": {
            "needs_background": "light"
          }
        },
        {
          "output_type": "display_data",
          "data": {
            "image/png": "[encoded data removed]",
            "text/plain": [
              "<Figure size 432x288 with 1 Axes>"
            ]
          },
          "metadata": {
            "needs_background": "light"
          }
        },
        {
          "output_type": "display_data",
          "data": {
            "image/png": "[encoded data removed]",
            "text/plain": [
              "<Figure size 432x288 with 1 Axes>"
            ]
          },
          "metadata": {
            "needs_background": "light"
          }
        },
        {
          "output_type": "display_data",
          "data": {
            "image/png": "[encoded data removed]",
            "text/plain": [
              "<Figure size 432x288 with 1 Axes>"
            ]
          },
          "metadata": {
            "needs_background": "light"
          }
        },
        {
          "output_type": "display_data",
          "data": {
            "image/png": "[encoded data removed]",
            "text/plain": [
              "<Figure size 432x288 with 1 Axes>"
            ]
          },
          "metadata": {
            "needs_background": "light"
          }
        }
      ],
      "source": [
        "# define the number of samples\n",
        "# Note:  Its best to sample no more than 10% of the population \n",
        "num_samples = 1000\n",
        "\n",
        "# Sample the binomial data with various numbers of observations per sample\n",
        "num_obs_per_samp = [10, 15, 20, 25, 30]\n",
        "    \n",
        "# Draw num_samples with replacement from the binomial distributionl. Each sample\n",
        "# has num_obs_per_samp observations per sample.  Take the mean of each sample.\n",
        "sample_ave = np.array(list(map(lambda x: list(map(lambda num_obs: np.mean(np.random.choice(binomial_dat, num_obs)), \n",
        "                                                  num_obs_per_samp)), \n",
        "                      np.arange(num_samples))))\n",
        "\n",
        "def create_histogram(sample_dat, num_obs):\n",
        "    plt.figure()\n",
        "    _, _, _ = plt.hist(sample_dat, bins=20)\n",
        "    plt.title(\"Distribution of Binomial Sample Means\\nNum Obs Per Sample = {}\".format(num_obs))\n",
        "    plt.xlabel(\"Sample Averages\")\n",
        "    plt.ylabel(\"Frequency\")\n",
        "    \n",
        "result = map(lambda i: create_histogram(sample_ave[:, i], num_obs_per_samp[i]), np.arange(len(num_obs_per_samp)))\n",
        "display(list(result))"
      ]
    },
    {
      "cell_type": "code",
      "execution_count": null,
      "metadata": {
        "scrolled": false,
        "id": "ClJ9yK74l4Uz",
        "outputId": "fba103b6-ccb2-4a03-93ed-bcaabb5219d3",
        "colab": {
          "base_uri": "https://localhost:8080/"
        }
      },
      "outputs": [
        {
          "output_type": "display_data",
          "data": {
            "image/png": "[encoded data removed]",
            "text/plain": [
              "<Figure size 432x288 with 1 Axes>"
            ]
          },
          "metadata": {
            "needs_background": "light"
          }
        },
        {
          "output_type": "display_data",
          "data": {
            "image/png": "[encoded data removed]",
            "text/plain": [
              "<Figure size 432x288 with 1 Axes>"
            ]
          },
          "metadata": {
            "needs_background": "light"
          }
        },
        {
          "output_type": "display_data",
          "data": {
            "image/png": "[encoded data removed]",
            "text/plain": [
              "<Figure size 432x288 with 1 Axes>"
            ]
          },
          "metadata": {
            "needs_background": "light"
          }
        },
        {
          "output_type": "display_data",
          "data": {
            "image/png": "[encoded data removed]",
            "text/plain": [
              "<Figure size 432x288 with 1 Axes>"
            ]
          },
          "metadata": {
            "needs_background": "light"
          }
        },
        {
          "output_type": "display_data",
          "data": {
            "image/png": "[encoded data removed]",
            "text/plain": [
              "<Figure size 432x288 with 1 Axes>"
            ]
          },
          "metadata": {
            "needs_background": "light"
          }
        }
      ],
      "source": [
        "# define the number of samples\n",
        "num_samples = 1000\n",
        "\n",
        "# Sample the binomial data with various numbers of observations per sample\n",
        "num_obs_per_samp = [10, 15, 20, 25, 30]\n",
        "\n",
        "# create a numpy array to store the sampling distribution of means\n",
        "sample_ave = np.zeros(num_samples)\n",
        "\n",
        "# for each number of observations per sample\n",
        "for num_obs in num_obs_per_samp:\n",
        "    i = 0\n",
        "    while i < num_samples:\n",
        "        # Draw num_samples with replacement from the binomial distributionl. Each sample\n",
        "        # has num_obs_per_samp observations per sample.  Take the mean of each sample.\n",
        "        sample_ave[i] = np.mean(np.random.choice(binomial_dat, num_obs))\n",
        "        i = i + 1\n",
        "        \n",
        "    plt.figure()\n",
        "    plt.hist(sample_ave, bins=15)\n",
        "    plt.title(\"Distribution of Binomial Sample Means\\nNum Samples = {}, Num Obs Per Sample = {}\".format(num_samples, num_obs))\n",
        "    plt.xlabel(\"Sample Averages\")\n",
        "    plt.ylabel(\"Frequency\")"
      ]
    },
    {
      "cell_type": "markdown",
      "metadata": {
        "id": "dEVAZWKYl4Uz"
      },
      "source": [
        "This brief overview has touched on many of the important things that you need to know about numpy, but is far from complete. Check out the [numpy reference](http://docs.scipy.org/doc/numpy/reference/) to find out much more about numpy."
      ]
    }
  ],
  "metadata": {
    "kernelspec": {
      "display_name": "Python 3",
      "language": "python",
      "name": "python3"
    },
    "language_info": {
      "codemirror_mode": {
        "name": "ipython",
        "version": 3
      },
      "file_extension": ".py",
      "mimetype": "text/x-python",
      "name": "python",
      "nbconvert_exporter": "python",
      "pygments_lexer": "ipython3",
      "version": "3.6.11"
    },
    "colab": {
      "name": "IST-718 Numpy Tutorial Instructor Version.ipynb",
      "provenance": [],
      "include_colab_link": true
    }
  },
  "nbformat": 4,
  "nbformat_minor": 0
}