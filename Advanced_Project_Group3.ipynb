{
 "cells": [
  {
   "cell_type": "markdown",
   "metadata": {},
   "source": [
    "# Advanced Presentation - SQLite"
   ]
  },
  {
   "cell_type": "markdown",
   "metadata": {},
   "source": [
    "##### Group 3: Yuke Wu, Chang Liu\n",
    "##### 2020-09-26"
   ]
  },
  {
   "attachments": {
    "SQLite-Python.jpg": {
     "image/jpeg": "[encoded data removed]"
    }
   },
   "cell_type": "markdown",
   "metadata": {},
   "source": [
    "![SQLite-Python.jpg](attachment:SQLite-Python.jpg)"
   ]
  },
  {
   "cell_type": "code",
   "execution_count": null,
   "metadata": {},
   "outputs": [],
   "source": [
    "#What is SQLite?"
   ]
  },
  {
   "cell_type": "code",
   "execution_count": null,
   "metadata": {},
   "outputs": [],
   "source": [
    "#SQLite is an embedded database software for local or client storage in application software such as web browsers. \n",
    "#It’s a widely deployed database engine.\n",
    "#It’s a widely deployed database engine."
   ]
  },
  {
   "cell_type": "code",
   "execution_count": null,
   "metadata": {},
   "outputs": [],
   "source": [
    "#The usage of SQLite"
   ]
  },
  {
   "cell_type": "code",
   "execution_count": null,
   "metadata": {},
   "outputs": [],
   "source": [
    "#SQLite can be used to create a database, define tables, insert and change rows, run queries and manage SQLite database files.\n",
    "#SQLite provide us local data storage for individual applications and devices."
   ]
  },
  {
   "cell_type": "code",
   "execution_count": null,
   "metadata": {},
   "outputs": [],
   "source": [
    "#Is SQLite in Python Standard Library?"
   ]
  },
  {
   "cell_type": "code",
   "execution_count": null,
   "metadata": {},
   "outputs": [],
   "source": [
    "# Yes, by using import command"
   ]
  },
  {
   "cell_type": "code",
   "execution_count": 2,
   "metadata": {},
   "outputs": [],
   "source": [
    "import sqlite3 as lite"
   ]
  },
  {
   "cell_type": "code",
   "execution_count": 3,
   "metadata": {},
   "outputs": [],
   "source": [
    "conn = lite.connect('company.db')\n",
    "with conn:\n",
    "    conn.execute('''\n",
    "    CREATE TABLE employee (\n",
    "    name TEXT,\n",
    "    age INTEGER,\n",
    "    department TEXT,\n",
    "    id INTEGER NOT NULL PRIMARY KEY AUTOINCREMENT);\n",
    "    ''')"
   ]
  },
  {
   "cell_type": "code",
   "execution_count": 4,
   "metadata": {},
   "outputs": [],
   "source": [
    "sql = 'insert into employee (id, name, age, department) values(?, ?, ?, ?)'\n",
    "datas = [\n",
    "    (1, 'John', 20, 'Sales'),\n",
    "    (2, 'Dan', 18, 'Sales'),\n",
    "    (3, 'James', 25, 'IT'),\n",
    "    (4, 'Amy', 27, 'IT'),\n",
    "    (5, 'Ron', 24, 'HR')\n",
    "]\n",
    "with conn:\n",
    "    conn.executemany(sql, datas)"
   ]
  },
  {
   "cell_type": "code",
   "execution_count": 89,
   "metadata": {},
   "outputs": [
    {
     "name": "stdout",
     "output_type": "stream",
     "text": [
      "('John', 20, 'Sales', 1)\n",
      "('Dan', 18, 'Sales', 2)\n",
      "('James', 25, 'IT', 3)\n",
      "('Amy', 27, 'IT', 4)\n",
      "('Ron', 24, 'HR', 5)\n"
     ]
    }
   ],
   "source": [
    "with conn:\n",
    "    datas = conn.execute(\"select * from employee\")\n",
    "    for data in datas:\n",
    "        print(data)"
   ]
  },
  {
   "cell_type": "code",
   "execution_count": 90,
   "metadata": {},
   "outputs": [
    {
     "name": "stdout",
     "output_type": "stream",
     "text": [
      "('John', 'Sales')\n",
      "('Dan', 'Sales')\n",
      "('James', 'IT')\n",
      "('Amy', 'IT')\n"
     ]
    }
   ],
   "source": [
    "# Wirte a SQL to query the employee names and their departments which their departments are 'sales' and 'IT'\n",
    "# method 1\n",
    "with conn:\n",
    "    datas = conn.execute(\"select name,department from employee where department in ('Sales','IT')\")\n",
    "    for data in datas:\n",
    "        print(data)"
   ]
  },
  {
   "cell_type": "code",
   "execution_count": 91,
   "metadata": {},
   "outputs": [
    {
     "name": "stdout",
     "output_type": "stream",
     "text": [
      "John Sales\n",
      "Dan Sales\n",
      "James IT\n",
      "Amy IT\n"
     ]
    }
   ],
   "source": [
    "# method 2\n",
    "# Sets the row_factory to the callable sqlite3.Row, which converts the plain tuple into a more useful object.\n",
    "conn.row_factory = lite.Row\n",
    "with conn:\n",
    "    datas = conn.execute(\"select * from employee where department in ('Sales','IT')\")\n",
    "    for data in datas:\n",
    "        print(data['name'],data['department'])"
   ]
  },
  {
   "cell_type": "code",
   "execution_count": 92,
   "metadata": {},
   "outputs": [],
   "source": [
    "with conn:\n",
    "    conn.execute('''\n",
    "    CREATE TABLE info (\n",
    "    e_id INTEGER,\n",
    "    salary integer,\n",
    "    id INTEGER NOT NULL PRIMARY KEY AUTOINCREMENT);\n",
    "    ''')\n",
    "    sql = 'insert into info (e_id, salary) values(?, ?)'\n",
    "    datas = [\n",
    "    (1, 70000),\n",
    "    (2, 60000),\n",
    "    (3, 55000),\n",
    "    (4, 75000),\n",
    "    (5, 50000)\n",
    "    ]\n",
    "    conn.executemany(sql, datas)"
   ]
  },
  {
   "cell_type": "code",
   "execution_count": 94,
   "metadata": {
    "scrolled": true
   },
   "outputs": [
    {
     "name": "stdout",
     "output_type": "stream",
     "text": [
      "the salary of John：70000\n",
      "the salary of Dan：60000\n",
      "the salary of James：55000\n",
      "the salary of Amy：75000\n",
      "the salary of Ron：50000\n"
     ]
    }
   ],
   "source": [
    "# Wirte a SQL to query the employee names and their corresponding salaries\n",
    "with conn:\n",
    "    sql = 'select e.name as name, i.salary as salary from employee e inner join info i on e.id=i.e_id'\n",
    "    datas = conn.execute(sql)\n",
    "    for data in datas:\n",
    "        print(f'the salary of {data[\"name\"]}：{data[\"salary\"]}')"
   ]
  },
  {
   "cell_type": "code",
   "execution_count": 73,
   "metadata": {},
   "outputs": [],
   "source": [
    "with conn:\n",
    "    conn.execute(\"delete from employee where department = 'HR'\")"
   ]
  },
  {
   "cell_type": "code",
   "execution_count": 85,
   "metadata": {},
   "outputs": [
    {
     "data": {
      "text/plain": [
       "<sqlite3.Cursor at 0x21e77de0030>"
      ]
     },
     "execution_count": 85,
     "metadata": {},
     "output_type": "execute_result"
    }
   ],
   "source": [
    "conn.execute('DROP TABLE employee')"
   ]
  },
  {
   "cell_type": "code",
   "execution_count": 86,
   "metadata": {},
   "outputs": [
    {
     "data": {
      "text/plain": [
       "<sqlite3.Cursor at 0x21e77de0260>"
      ]
     },
     "execution_count": 86,
     "metadata": {},
     "output_type": "execute_result"
    }
   ],
   "source": [
    "conn.execute('DROP TABLE info')"
   ]
  },
  {
   "cell_type": "code",
   "execution_count": null,
   "metadata": {},
   "outputs": [],
   "source": [
    "#SQLite is almost always a better solution for device-local storage with low writer concurrency and less than a terabyte of content.\n",
    "#SQLite is fast and reliable and it requires no configuration or maintenance. "
   ]
  },
  {
   "cell_type": "code",
   "execution_count": null,
   "metadata": {},
   "outputs": [],
   "source": [
    "#Scenarios that SQLite works well:"
   ]
  },
  {
   "cell_type": "code",
   "execution_count": null,
   "metadata": {},
   "outputs": [],
   "source": [
    "#Embedded devices:\n",
    "#Because an SQLite database requires no administration, it works well in devices that must operate without expert human support. "
   ]
  },
  {
   "cell_type": "code",
   "execution_count": null,
   "metadata": {},
   "outputs": [],
   "source": [
    "#Embedded devices\n",
    "#Because an SQLite database requires no administration, it works well in devices that must operate without expert human support. "
   ]
  }
 ],
 "metadata": {
  "kernelspec": {
   "display_name": "Python 3",
   "language": "python",
   "name": "python3"
  },
  "language_info": {
   "codemirror_mode": {
    "name": "ipython",
    "version": 3
   },
   "file_extension": ".py",
   "mimetype": "text/x-python",
   "name": "python",
   "nbconvert_exporter": "python",
   "pygments_lexer": "ipython3",
   "version": "3.7.6"
  }
 },
 "nbformat": 4,
 "nbformat_minor": 2
}
